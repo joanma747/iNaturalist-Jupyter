{
 "cells": [
  {
   "attachments": {},
   "cell_type": "markdown",
   "metadata": {},
   "source": [
    "This Notebook focusses on the problem of getting data from the iNaturalist API.\n",
    "The good thing about this well known and widely used repositories is that the community has spent time producing tools that can be recycled by other."
   ]
  },
  {
   "attachments": {},
   "cell_type": "markdown",
   "metadata": {},
   "source": [
    "This Python code selects a species and a period of time an plots the abundance per day.\n",
    "\n",
    "The first step in this code is importing the needed libraries."
   ]
  },
  {
   "cell_type": "code",
   "execution_count": 4,
   "metadata": {},
   "outputs": [],
   "source": [
    "import requests\n",
    "import matplotlib\n",
    "import pandas\n",
    "from urllib.parse import urlencode\n",
    "import json"
   ]
  },
  {
   "attachments": {},
   "cell_type": "markdown",
   "metadata": {},
   "source": [
    "Later we define our query. You can change the q object parameters to personalize your query"
   ]
  },
  {
   "cell_type": "code",
   "execution_count": 5,
   "metadata": {},
   "outputs": [],
   "source": [
    "# Helpful site: https://api.inaturalist.org/v1/docs/#!/Observations/get_observations\n",
    "# look for the taxon ids and place ids in the urls on the web site.\n",
    "\n",
    "q = {\n",
    "    \"taxon_id\": 209444, # Rosa-agrestis\n",
    "    \"d1\": \"2021-01-01\",\n",
    "    \"d2\": \"2023-05-16\",\n",
    "    \"order\": \"desc\",\n",
    "    \"order_by\": \"created_at\",\n",
    "    #\"quality_grade\": \"research\",\n",
    "    \"per_page\": 200,\n",
    "}\n",
    "url = \"https://api.inaturalist.org/v1/observations?\""
   ]
  },
  {
   "attachments": {},
   "cell_type": "markdown",
   "metadata": {},
   "source": [
    "Now the query to the server is done and the data is received"
   ]
  },
  {
   "cell_type": "code",
   "execution_count": 6,
   "metadata": {},
   "outputs": [
    {
     "name": "stdout",
     "output_type": "stream",
     "text": [
      "73\n",
      "1\n",
      "Results: 73 ,  1  pages total\n",
      "Retrieving page  1\n",
      "no more results, stopping\n"
     ]
    }
   ],
   "source": [
    "\n",
    "\n",
    "z = pandas.DataFrame()\n",
    "\n",
    "page = 1\n",
    "while True:\n",
    "    q['page'] = page\n",
    "    r = requests.get(url, params = q)\n",
    "    \n",
    "    results = r.json()[\"results\"]\n",
    "    z = pandas.concat([z, pandas.DataFrame(r.json()[\"results\"])])\n",
    "\n",
    "    if r.json()[\"results\"] == []:\n",
    "        print(\"no more results, stopping\")\n",
    "        break\n",
    "    if page > 999:\n",
    "        break\n",
    "        \n",
    "    if page == 1:\n",
    "        num_pages = int(r.json()[\"total_results\"] / r.json()[\"per_page\"])+1\n",
    "        print(r.json()[\"total_results\"])\n",
    "        print(num_pages)\n",
    "        print(\"Results:\", r.json()[\"total_results\"], \", \", num_pages, \" pages total\")\n",
    "    print(\"Retrieving page \", page)\n",
    "    page += 1\n",
    "\n",
    "z['created_at'] = pandas.to_datetime(z['created_at'], errors='coerce', utc=True)\n",
    "z = z.set_index(pandas.DatetimeIndex(z['created_at']))"
   ]
  },
  {
   "cell_type": "code",
   "execution_count": 7,
   "metadata": {},
   "outputs": [
    {
     "data": {
      "text/plain": [
       "created_at\n",
       "2023-05-20 17:11:09+00:00    https://www.inaturalist.org/observations/16270...\n",
       "2023-05-17 15:20:38+00:00    https://www.inaturalist.org/observations/16214...\n",
       "2023-05-17 09:06:44+00:00    https://www.inaturalist.org/observations/16210...\n",
       "2023-05-16 16:03:18+00:00    https://www.inaturalist.org/observations/16198...\n",
       "2023-05-12 11:59:33+00:00    https://www.inaturalist.org/observations/16121...\n",
       "                                                   ...                        \n",
       "2021-05-23 13:54:16+00:00    https://www.inaturalist.org/observations/79938853\n",
       "2021-05-23 11:21:18+00:00    https://www.inaturalist.org/observations/79920587\n",
       "2021-05-22 17:48:25+00:00    https://www.inaturalist.org/observations/79812687\n",
       "2021-05-21 23:46:44+00:00    https://www.inaturalist.org/observations/79711129\n",
       "2021-05-03 16:26:00+00:00    https://www.inaturalist.org/observations/76983998\n",
       "Name: uri, Length: 73, dtype: object"
      ]
     },
     "execution_count": 7,
     "metadata": {},
     "output_type": "execute_result"
    }
   ],
   "source": [
    "z[\"uri\"]"
   ]
  },
  {
   "attachments": {},
   "cell_type": "markdown",
   "metadata": {},
   "source": [
    "The only thing that we have to do is apply one statistic grouping function and plot the result!"
   ]
  },
  {
   "cell_type": "code",
   "execution_count": 8,
   "metadata": {},
   "outputs": [
    {
     "data": {
      "text/plain": [
       "<Axes: xlabel='created_at'>"
      ]
     },
     "execution_count": 8,
     "metadata": {},
     "output_type": "execute_result"
    },
    {
     "data": {
      "image/png": "[encoded data removed]",
      "text/plain": [
       "<Figure size 640x480 with 1 Axes>"
      ]
     },
     "metadata": {},
     "output_type": "display_data"
    }
   ],
   "source": [
    "#\n",
    "# This shows a chart of the count of observations by month\n",
    "# \n",
    "zz = z[\"uri\"].groupby(pandas.Grouper(freq='M')).count()\n",
    "zz.plot()\n"
   ]
  }
 ],
 "metadata": {
  "kernelspec": {
   "display_name": "base",
   "language": "python",
   "name": "python3"
  },
  "language_info": {
   "codemirror_mode": {
    "name": "ipython",
    "version": 3
   },
   "file_extension": ".py",
   "mimetype": "text/x-python",
   "name": "python",
   "nbconvert_exporter": "python",
   "pygments_lexer": "ipython3",
   "version": "3.10.11"
  },
  "orig_nbformat": 4
 },
 "nbformat": 4,
 "nbformat_minor": 2
}
