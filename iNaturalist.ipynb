{
 "cells": [
  {
   "cell_type": "code",
   "execution_count": 34,
   "metadata": {},
   "outputs": [
    {
     "name": "stdout",
     "output_type": "stream",
     "text": [
      "417\n",
      "3\n",
      "Results: 417 ,  3  pages total\n",
      "Retrieving page  1\n",
      "Retrieving page  2\n",
      "Retrieving page  3\n",
      "no more results, stopping\n"
     ]
    }
   ],
   "source": [
    "import requests\n",
    "import matplotlib\n",
    "import pandas\n",
    "from urllib.parse import urlencode\n",
    "import json\n",
    "\n",
    "# Helpful site: https://api.inaturalist.org/v1/docs/#!/Observations/get_observations\n",
    "# look for the taxon ids and place ids in the urls on the web site.\n",
    "\n",
    "q = {\n",
    "    \"taxon_id\": 209444, # green anole\n",
    "    \"d1\": \"2021-01-01\",\n",
    "    \"d2\": \"2023-05-16\",\n",
    "    \"order\": \"desc\",\n",
    "    \"order_by\": \"created_at\",\n",
    "    \"place_id\": 53832, # Mediterranean\n",
    "    \"per_page\": 200,\n",
    "}\n",
    "url = \"https://api.inaturalist.org/v1/observations?\"\n",
    "\n",
    "z = pandas.DataFrame()\n",
    "\n",
    "page = 1\n",
    "while True:\n",
    "    q['page'] = page\n",
    "    r = requests.get(url, params = q)\n",
    "    \n",
    "    results = r.json()[\"results\"]\n",
    "    z = pandas.concat([z, pandas.DataFrame(r.json()[\"results\"])])\n",
    "\n",
    "    if r.json()[\"results\"] == []:\n",
    "        print(\"no more results, stopping\")\n",
    "        break\n",
    "    if page > 999:\n",
    "        break\n",
    "        \n",
    "    if page == 1:\n",
    "        num_pages = int(r.json()[\"total_results\"] / r.json()[\"per_page\"])+1\n",
    "        print(r.json()[\"total_results\"])\n",
    "        print(num_pages)\n",
    "        print(\"Results:\", r.json()[\"total_results\"], \", \", num_pages, \" pages total\")\n",
    "    print(\"Retrieving page \", page)\n",
    "    page += 1\n",
    "\n",
    "z['created_at'] = pandas.to_datetime(z['created_at'])\n",
    "z = z.set_index('created_at')"
   ]
  },
  {
   "cell_type": "code",
   "execution_count": 35,
   "metadata": {
    "scrolled": true
   },
   "outputs": [
    {
     "data": {
      "text/plain": [
       "<matplotlib.axes._subplots.AxesSubplot at 0x120eea400>"
      ]
     },
     "execution_count": 35,
     "metadata": {},
     "output_type": "execute_result"
    },
    {
     "data": {
      "image/png": "[encoded data removed]",
      "text/plain": [
       "<Figure size 432x288 with 1 Axes>"
      ]
     },
     "metadata": {},
     "output_type": "display_data"
    }
   ],
   "source": [
    "#\n",
    "# This shows a chart of the count of observations by month\n",
    "# \n",
    "zz = z[\"uri\"].groupby(pandas.Grouper(freq='M')).count()\n",
    "zz.plot()"
   ]
  },
  {
   "cell_type": "code",
   "execution_count": null,
   "metadata": {},
   "outputs": [],
   "source": []
  }
 ],
 "metadata": {
  "kernelspec": {
   "display_name": "Python 3",
   "language": "python",
   "name": "python3"
  },
  "language_info": {
   "codemirror_mode": {
    "name": "ipython",
    "version": 3
   },
   "file_extension": ".py",
   "mimetype": "text/x-python",
   "name": "python",
   "nbconvert_exporter": "python",
   "pygments_lexer": "ipython3",
   "version": "3.6.4"
  }
 },
 "nbformat": 4,
 "nbformat_minor": 2
}
